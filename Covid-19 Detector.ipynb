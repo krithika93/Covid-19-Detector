{
 "cells": [
  {
   "cell_type": "code",
   "execution_count": 1,
   "metadata": {},
   "outputs": [],
   "source": [
    "import tensorflow\n",
    "from tensorflow.keras.preprocessing.image import ImageDataGenerator\n",
    "from tensorflow.keras.applications import VGG16\n",
    "from tensorflow.keras.layers import AveragePooling2D\n",
    "from tensorflow.keras.layers import Dropout\n",
    "from tensorflow.keras.layers import Flatten\n",
    "from tensorflow.keras.layers import Dense\n",
    "from tensorflow.keras.layers import Input\n",
    "from tensorflow.keras.models import Model\n",
    "from tensorflow.keras.optimizers import Adam\n",
    "from tensorflow.keras.utils import to_categorical\n",
    "from sklearn.preprocessing import LabelBinarizer\n",
    "from sklearn.model_selection import train_test_split\n",
    "from sklearn.metrics import classification_report\n",
    "from sklearn.metrics import confusion_matrix\n",
    "from imutils import paths\n",
    "import matplotlib.pyplot as plt\n",
    "import numpy as np\n",
    "import argparse\n",
    "import cv2"
   ]
  },
  {
   "cell_type": "code",
   "execution_count": 2,
   "metadata": {},
   "outputs": [],
   "source": [
    "import os\n",
    "imagePaths = list(paths.list_images(\"dataset\"))\n",
    "data =[]\n",
    "labels=[]\n",
    "# loop over the image paths\n",
    "for imagePath in imagePaths:\n",
    "\t# extract the class label from the filename\n",
    "\tlabel = imagePath.split(os.path.sep)[-2]\n",
    "\t# load the image, swap color channels, and resize it to be a fixed\n",
    "\t# 224x224 pixels while ignoring aspect ratio\n",
    "\timage = cv2.imread(imagePath)\n",
    "\timage = cv2.cvtColor(image, cv2.COLOR_BGR2RGB)\n",
    "\timage = cv2.resize(image, (224, 224))\n",
    "\t# update the data and labels lists, respectively\n",
    "\tdata.append(image)\n",
    "\tlabels.append(label)\n",
    "# convert the data and labels to NumPy arrays while scaling the pixel\n",
    "# intensities to the range [0, 1]\n",
    "data = np.array(data) / 255.0\n",
    "labels = np.array(labels)"
   ]
  },
  {
   "cell_type": "code",
   "execution_count": 3,
   "metadata": {},
   "outputs": [],
   "source": [
    "# perform one-hot encoding on the labels\n",
    "lb = LabelBinarizer()\n",
    "labels = lb.fit_transform(labels)\n",
    "labels = to_categorical(labels)\n",
    "# partition the data into training and testing splits using 80% of\n",
    "# the data for training and the remaining 20% for testing\n",
    "(trainX, testX, trainY, testY) = train_test_split(data, labels,\n",
    "\ttest_size=0.20, stratify=labels, random_state=42)\n",
    "# initialize the training data augmentation object\n",
    "trainAug = ImageDataGenerator(\n",
    "\trotation_range=15,\n",
    "\tfill_mode=\"nearest\")"
   ]
  },
  {
   "cell_type": "code",
   "execution_count": 4,
   "metadata": {},
   "outputs": [
    {
     "name": "stdout",
     "output_type": "stream",
     "text": [
      "WARNING:tensorflow:From /usr/local/lib64/python3.6/site-packages/tensorflow/python/ops/init_ops.py:1251: calling VarianceScaling.__init__ (from tensorflow.python.ops.init_ops) with dtype is deprecated and will be removed in a future version.\n",
      "Instructions for updating:\n",
      "Call initializer instance with the dtype argument instead of passing it to the constructor\n"
     ]
    }
   ],
   "source": [
    "# load the VGG16 network, ensuring the head FC layer sets are left\n",
    "# off\n",
    "baseModel = VGG16(weights=\"imagenet\", include_top=False,input_tensor=Input(shape=(224, 224, 3)))\n"
   ]
  },
  {
   "cell_type": "code",
   "execution_count": 5,
   "metadata": {},
   "outputs": [],
   "source": [
    "# construct the head of the model that will be placed on top of the\n",
    "# the base model\n",
    "headModel = baseModel.output\n",
    "headModel = AveragePooling2D(pool_size=(4, 4))(headModel)\n",
    "headModel = Flatten(name=\"flatten\")(headModel)\n",
    "headModel = Dense(64, activation=\"relu\")(headModel)\n",
    "headModel = Dropout(0.5)(headModel)\n",
    "headModel = Dense(2, activation=\"softmax\")(headModel)\n",
    "# place the head FC model on top of the base model (this will become\n",
    "# the actual model we will train)\n",
    "model = Model(inputs=baseModel.input, outputs=headModel)\n",
    "# loop over all layers in the base model and freeze them so they will\n",
    "# *not* be updated during the first training process\n",
    "for layer in baseModel.layers:\n",
    "\tlayer.trainable = False"
   ]
  },
  {
   "cell_type": "code",
   "execution_count": 7,
   "metadata": {},
   "outputs": [
    {
     "name": "stdout",
     "output_type": "stream",
     "text": [
      "[INFO] compiling model...\n",
      "[INFO] training head...\n",
      "Epoch 1/25\n",
      "WARNING:tensorflow:From /usr/local/lib64/python3.6/site-packages/tensorflow/python/ops/math_grad.py:1250: add_dispatch_support.<locals>.wrapper (from tensorflow.python.ops.array_ops) is deprecated and will be removed in a future version.\n",
      "Instructions for updating:\n",
      "Use tf.where in 2.0, which has the same broadcast rule as np.where\n",
      "5/5 [==============================] - 8s 2s/step - loss: 0.7469 - acc: 0.5000 - val_loss: 0.6824 - val_acc: 0.5000\n",
      "Epoch 2/25\n",
      "5/5 [==============================] - 7s 1s/step - loss: 0.7171 - acc: 0.5000 - val_loss: 0.6361 - val_acc: 0.7000\n",
      "Epoch 3/25\n",
      "5/5 [==============================] - 9s 2s/step - loss: 0.7422 - acc: 0.4750 - val_loss: 0.6425 - val_acc: 0.5000\n",
      "Epoch 4/25\n",
      "5/5 [==============================] - 7s 1s/step - loss: 0.6774 - acc: 0.5750 - val_loss: 0.6320 - val_acc: 0.5000\n",
      "Epoch 5/25\n",
      "5/5 [==============================] - 7s 1s/step - loss: 0.6519 - acc: 0.6000 - val_loss: 0.6158 - val_acc: 0.7000\n",
      "Epoch 6/25\n",
      "5/5 [==============================] - 7s 1s/step - loss: 0.6272 - acc: 0.7000 - val_loss: 0.6115 - val_acc: 0.7000\n",
      "Epoch 7/25\n",
      "5/5 [==============================] - 7s 1s/step - loss: 0.5702 - acc: 0.7250 - val_loss: 0.5959 - val_acc: 0.7000\n",
      "Epoch 8/25\n",
      "5/5 [==============================] - 9s 2s/step - loss: 0.5908 - acc: 0.6750 - val_loss: 0.5818 - val_acc: 0.7000\n",
      "Epoch 9/25\n",
      "5/5 [==============================] - 7s 1s/step - loss: 0.5543 - acc: 0.7250 - val_loss: 0.5659 - val_acc: 1.0000\n",
      "Epoch 10/25\n",
      "5/5 [==============================] - 7s 1s/step - loss: 0.5372 - acc: 0.7750 - val_loss: 0.5505 - val_acc: 0.9000\n",
      "Epoch 11/25\n",
      "5/5 [==============================] - 7s 1s/step - loss: 0.5265 - acc: 0.8250 - val_loss: 0.5381 - val_acc: 1.0000\n",
      "Epoch 12/25\n",
      "5/5 [==============================] - 7s 1s/step - loss: 0.5368 - acc: 0.7250 - val_loss: 0.5314 - val_acc: 0.9000\n",
      "Epoch 13/25\n",
      "5/5 [==============================] - 9s 2s/step - loss: 0.4772 - acc: 0.8500 - val_loss: 0.5265 - val_acc: 1.0000\n",
      "Epoch 14/25\n",
      "5/5 [==============================] - 7s 1s/step - loss: 0.4671 - acc: 0.8250 - val_loss: 0.5195 - val_acc: 1.0000\n",
      "Epoch 15/25\n",
      "5/5 [==============================] - 7s 1s/step - loss: 0.4508 - acc: 0.9250 - val_loss: 0.5050 - val_acc: 0.8000\n",
      "Epoch 16/25\n",
      "5/5 [==============================] - 7s 1s/step - loss: 0.4389 - acc: 0.8500 - val_loss: 0.4916 - val_acc: 0.7000\n",
      "Epoch 17/25\n",
      "5/5 [==============================] - 7s 1s/step - loss: 0.4258 - acc: 0.8500 - val_loss: 0.4798 - val_acc: 0.8000\n",
      "Epoch 18/25\n",
      "5/5 [==============================] - 9s 2s/step - loss: 0.4409 - acc: 0.9250 - val_loss: 0.4730 - val_acc: 1.0000\n",
      "Epoch 19/25\n",
      "5/5 [==============================] - 7s 1s/step - loss: 0.3936 - acc: 0.9500 - val_loss: 0.4688 - val_acc: 1.0000\n",
      "Epoch 20/25\n",
      "5/5 [==============================] - 7s 1s/step - loss: 0.4195 - acc: 0.8500 - val_loss: 0.4620 - val_acc: 1.0000\n",
      "Epoch 21/25\n",
      "5/5 [==============================] - 7s 1s/step - loss: 0.4110 - acc: 0.8750 - val_loss: 0.4547 - val_acc: 1.0000\n",
      "Epoch 22/25\n",
      "5/5 [==============================] - 7s 1s/step - loss: 0.3382 - acc: 0.9250 - val_loss: 0.4487 - val_acc: 1.0000\n",
      "Epoch 23/25\n",
      "5/5 [==============================] - 9s 2s/step - loss: 0.4032 - acc: 0.8750 - val_loss: 0.4488 - val_acc: 0.9000\n",
      "Epoch 24/25\n",
      "5/5 [==============================] - 7s 1s/step - loss: 0.3786 - acc: 0.9000 - val_loss: 0.4431 - val_acc: 0.9000\n",
      "Epoch 25/25\n",
      "5/5 [==============================] - 7s 1s/step - loss: 0.3857 - acc: 0.9250 - val_loss: 0.4259 - val_acc: 1.0000\n"
     ]
    }
   ],
   "source": [
    "# initialize the initial learning rate, number of epochs to train for,\n",
    "# and batch size\n",
    "INIT_LR = 1e-3\n",
    "EPOCHS = 25\n",
    "BS = 8\n",
    "# compile our model\n",
    "print(\"[INFO] compiling model...\")\n",
    "opt = Adam(lr=INIT_LR, decay=INIT_LR / EPOCHS)\n",
    "model.compile(loss=\"binary_crossentropy\", optimizer=opt,\n",
    "\tmetrics=[\"accuracy\"])\n",
    "# train the head of the network\n",
    "print(\"[INFO] training head...\")\n",
    "H = model.fit_generator(\n",
    "\ttrainAug.flow(trainX, trainY, batch_size=BS),\n",
    "\tsteps_per_epoch=len(trainX) // BS,\n",
    "\tvalidation_data=(testX, testY),\n",
    "\tvalidation_steps=len(testX) // BS,\n",
    "\tepochs=EPOCHS)"
   ]
  },
  {
   "cell_type": "code",
   "execution_count": null,
   "metadata": {},
   "outputs": [],
   "source": []
  },
  {
   "cell_type": "code",
   "execution_count": 8,
   "metadata": {},
   "outputs": [
    {
     "name": "stdout",
     "output_type": "stream",
     "text": [
      "[INFO] evaluating network...\n",
      "              precision    recall  f1-score   support\n",
      "\n",
      "       covid       1.00      1.00      1.00         5\n",
      "      normal       1.00      1.00      1.00         5\n",
      "\n",
      "    accuracy                           1.00        10\n",
      "   macro avg       1.00      1.00      1.00        10\n",
      "weighted avg       1.00      1.00      1.00        10\n",
      "\n"
     ]
    }
   ],
   "source": [
    "# make predictions on the testing set\n",
    "print(\"[INFO] evaluating network...\")\n",
    "predIdxs = model.predict(testX, batch_size=BS)\n",
    "# for each image in the testing set we need to find the index of the\n",
    "# label with corresponding largest predicted probability\n",
    "predIdxs = np.argmax(predIdxs, axis=1)\n",
    "# show a nicely formatted classification report\n",
    "print(classification_report(testY.argmax(axis=1), predIdxs,\n",
    "\ttarget_names=lb.classes_))"
   ]
  },
  {
   "cell_type": "code",
   "execution_count": 9,
   "metadata": {},
   "outputs": [
    {
     "name": "stdout",
     "output_type": "stream",
     "text": [
      "[[5 0]\n",
      " [0 5]]\n",
      "acc: 1.0000\n",
      "sensitivity: 1.0000\n",
      "specificity: 1.0000\n"
     ]
    }
   ],
   "source": [
    "# compute the confusion matrix and and use it to derive the raw\n",
    "# accuracy, sensitivity, and specificity\n",
    "cm = confusion_matrix(testY.argmax(axis=1), predIdxs)\n",
    "total = sum(sum(cm))\n",
    "acc = (cm[0, 0] + cm[1, 1]) / total\n",
    "sensitivity = cm[0, 0] / (cm[0, 0] + cm[0, 1])\n",
    "specificity = cm[1, 1] / (cm[1, 0] + cm[1, 1])\n",
    "# show the confusion matrix, accuracy, sensitivity, and specificity\n",
    "print(cm)\n",
    "print(\"acc: {:.4f}\".format(acc))\n",
    "print(\"sensitivity: {:.4f}\".format(sensitivity))\n",
    "print(\"specificity: {:.4f}\".format(specificity))"
   ]
  },
  {
   "cell_type": "code",
   "execution_count": 14,
   "metadata": {},
   "outputs": [
    {
     "data": {
      "image/png": "[encoded data removed]",
      "text/plain": [
       "<Figure size 432x288 with 1 Axes>"
      ]
     },
     "metadata": {},
     "output_type": "display_data"
    }
   ],
   "source": [
    "# plot the training loss and accuracy\n",
    "N = EPOCHS\n",
    "plt.style.use(\"ggplot\")\n",
    "plt.figure()\n",
    "plt.plot(np.arange(0, N), H.history[\"loss\"], label=\"train_loss\")\n",
    "plt.plot(np.arange(0, N), H.history[\"val_loss\"], label=\"val_loss\")\n",
    "plt.plot(np.arange(0, N), H.history[\"acc\"], label=\"train_acc\")\n",
    "plt.plot(np.arange(0, N), H.history[\"val_acc\"], label=\"val_acc\")\n",
    "plt.title(\"Training Loss and Accuracy on COVID-19 Dataset\")\n",
    "plt.xlabel(\"Epoch #\")\n",
    "plt.ylabel(\"Loss/Accuracy\")\n",
    "plt.legend(loc=\"lower left\")\n",
    "plt.savefig(\"plot\")"
   ]
  },
  {
   "cell_type": "code",
   "execution_count": 19,
   "metadata": {},
   "outputs": [
    {
     "name": "stdout",
     "output_type": "stream",
     "text": [
      "[INFO] saving COVID-19 detector model...\n"
     ]
    }
   ],
   "source": [
    "# serialize the model to disk\n",
    "print(\"[INFO] saving COVID-19 detector model...\")\n",
    "mod = \"model\"\n",
    "model.save(\"model1\", save_format=\"h5\")"
   ]
  }
 ],
 "metadata": {
  "kernelspec": {
   "display_name": "Python 3",
   "language": "python",
   "name": "python3"
  },
  "language_info": {
   "codemirror_mode": {
    "name": "ipython",
    "version": 3
   },
   "file_extension": ".py",
   "mimetype": "text/x-python",
   "name": "python",
   "nbconvert_exporter": "python",
   "pygments_lexer": "ipython3",
   "version": "3.6.8"
  }
 },
 "nbformat": 4,
 "nbformat_minor": 4
}
